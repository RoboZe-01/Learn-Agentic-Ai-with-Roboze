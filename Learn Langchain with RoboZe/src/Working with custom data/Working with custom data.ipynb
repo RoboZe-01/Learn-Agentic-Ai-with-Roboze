{
 "cells": [
  {
   "cell_type": "markdown",
   "id": "593a32ce",
   "metadata": {},
   "source": [
    "# Working with custom data"
   ]
  },
  {
   "cell_type": "markdown",
   "id": "db5c6cde",
   "metadata": {},
   "source": [
    "## Agenda \n",
    "1. Data loaders - How to work with custom data\n",
    "2. Introduction to RAG\n",
    "3. Splitters \n",
    "4. Embeddings\n",
    "5. vector store\n",
    "6. Retrivers \n",
    "7. Top k"
   ]
  },
  {
   "cell_type": "markdown",
   "id": "f1884aa7",
   "metadata": {},
   "source": [
    "import "
   ]
  },
  {
   "cell_type": "code",
   "execution_count": 1,
   "id": "3f0da1fb",
   "metadata": {},
   "outputs": [],
   "source": [
    "# Loading the api and the model \n",
    "\n",
    "import os \n",
    "from dotenv import load_dotenv , find_dotenv\n",
    "_=load_dotenv(find_dotenv())\n",
    "gemini_api_key = os.environ[\"GOOGLE_API_KEY\"]"
   ]
  }
 ],
 "metadata": {
  "kernelspec": {
   "display_name": "venv",
   "language": "python",
   "name": "python3"
  },
  "language_info": {
   "codemirror_mode": {
    "name": "ipython",
    "version": 3
   },
   "file_extension": ".py",
   "mimetype": "text/x-python",
   "name": "python",
   "nbconvert_exporter": "python",
   "pygments_lexer": "ipython3",
   "version": "3.11.9"
  }
 },
 "nbformat": 4,
 "nbformat_minor": 5
}
