{
 "cells": [
  {
   "cell_type": "markdown",
   "id": "593a32ce",
   "metadata": {},
   "source": [
    "# Working with custom data"
   ]
  },
  {
   "cell_type": "markdown",
   "id": "db5c6cde",
   "metadata": {},
   "source": [
    "## Agenda \n",
    "1. Data loaders - How to work with custom data\n",
    "2. Introduction to RAG\n",
    "3. Splitters \n",
    "4. Embeddings\n",
    "5. vector store\n",
    "6. Retrivers \n",
    "7. Top k"
   ]
  },
  {
   "cell_type": "markdown",
   "id": "f1884aa7",
   "metadata": {},
   "source": [
    "import "
   ]
  },
  {
   "cell_type": "code",
   "execution_count": 1,
   "id": "3f0da1fb",
   "metadata": {},
   "outputs": [],
   "source": [
    "# Loading the api and the model \n",
    "\n",
    "import os \n",
    "from dotenv import load_dotenv , find_dotenv\n",
    "_=load_dotenv(find_dotenv())\n",
    "gemini_api_key = os.environ[\"GOOGLE_API_KEY\"]"
   ]
  },
  {
   "cell_type": "code",
   "execution_count": 2,
   "id": "bafd5783",
   "metadata": {},
   "outputs": [
    {
     "name": "stderr",
     "output_type": "stream",
     "text": [
      "d:\\Robotics\\Learn Agentic AI with RoboZe\\venv\\Lib\\site-packages\\tqdm\\auto.py:21: TqdmWarning: IProgress not found. Please update jupyter and ipywidgets. See https://ipywidgets.readthedocs.io/en/stable/user_install.html\n",
      "  from .autonotebook import tqdm as notebook_tqdm\n"
     ]
    }
   ],
   "source": [
    "# Loading the gemini model to programme\n",
    "\n",
    "from langchain_google_genai import ChatGoogleGenerativeAI\n",
    "\n",
    "llmModel = ChatGoogleGenerativeAI(model=\"gemini-2.5-pro\",temperature=0.7)"
   ]
  },
  {
   "cell_type": "code",
   "execution_count": 6,
   "id": "d50bd533",
   "metadata": {},
   "outputs": [
    {
     "name": "stdout",
     "output_type": "stream",
     "text": [
      "It's an expression of watching someone intently, which can imply anything from romantic interest to a suspicious warning.\n"
     ]
    }
   ],
   "source": [
    "messages= [\n",
    "    (\"system\", \"You are a helpful assistant\"),\n",
    "    (\"human\",\"Tell me in one line about i got my eyes on you\"\n",
    "    ),\n",
    "]\n",
    "response = llmModel.invoke(messages)\n",
    "print(response.content)"
   ]
  },
  {
   "cell_type": "markdown",
   "id": "a179da89",
   "metadata": {},
   "source": [
    "## How to connect custom database "
   ]
  },
  {
   "cell_type": "markdown",
   "id": "9d5f53aa",
   "metadata": {},
   "source": [
    "## Data Loader"
   ]
  },
  {
   "cell_type": "code",
   "execution_count": null,
   "id": "bb384b4a",
   "metadata": {},
   "outputs": [],
   "source": [
    "#TXT data loader\n",
    "from langchain_community.document_loaders import TextLoader"
   ]
  }
 ],
 "metadata": {
  "kernelspec": {
   "display_name": "venv",
   "language": "python",
   "name": "python3"
  },
  "language_info": {
   "codemirror_mode": {
    "name": "ipython",
    "version": 3
   },
   "file_extension": ".py",
   "mimetype": "text/x-python",
   "name": "python",
   "nbconvert_exporter": "python",
   "pygments_lexer": "ipython3",
   "version": "3.11.9"
  }
 },
 "nbformat": 4,
 "nbformat_minor": 5
}
