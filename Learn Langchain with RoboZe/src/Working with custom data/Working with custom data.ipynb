{
 "cells": [
  {
   "cell_type": "markdown",
   "id": "593a32ce",
   "metadata": {},
   "source": [
    "# Working with custom data"
   ]
  }
 ],
 "metadata": {
  "language_info": {
   "name": "python"
  }
 },
 "nbformat": 4,
 "nbformat_minor": 5
}
