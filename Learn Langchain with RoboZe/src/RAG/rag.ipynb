{
 "cells": [
  {
   "cell_type": "markdown",
   "id": "d938b009",
   "metadata": {},
   "source": [
    "## Rag Systems"
   ]
  },
  {
   "cell_type": "code",
   "execution_count": null,
   "id": "72918622",
   "metadata": {
    "vscode": {
     "languageId": "plaintext"
    }
   },
   "outputs": [],
   "source": []
  }
 ],
 "metadata": {
  "language_info": {
   "name": "python"
  }
 },
 "nbformat": 4,
 "nbformat_minor": 5
}
