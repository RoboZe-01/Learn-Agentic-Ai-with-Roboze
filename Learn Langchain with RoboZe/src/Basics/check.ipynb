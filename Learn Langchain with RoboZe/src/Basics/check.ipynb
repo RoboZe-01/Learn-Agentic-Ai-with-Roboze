{
 "cells": [
  {
   "cell_type": "code",
   "execution_count": 7,
   "id": "621de9e8",
   "metadata": {},
   "outputs": [],
   "source": [
    "\n",
    "import os\n",
    "from dotenv import load_dotenv ,find_dotenv\n",
    "_= load_dotenv(find_dotenv())\n",
    "OPENAI_API_KEY = os.environ[\"GOOGLE_API_KEY\"]\n"
   ]
  },
  {
   "cell_type": "markdown",
   "id": "1f5b46f8",
   "metadata": {},
   "source": [
    "### Making simple completion model \n",
    "\n",
    "completion model = only give answer we can not perform conversation there "
   ]
  },
  {
   "cell_type": "code",
   "execution_count": 12,
   "id": "ab6da830",
   "metadata": {},
   "outputs": [],
   "source": [
    "from langchain_google_genai import ChatGoogleGenerativeAI\n",
    "\n",
    "llm = ChatGoogleGenerativeAI(model=\"gemini-2.5-pro\")\n"
   ]
  },
  {
   "cell_type": "code",
   "execution_count": 16,
   "id": "1ed9b7b5",
   "metadata": {},
   "outputs": [],
   "source": [
    "# Invoking the model \n",
    "response = llm.invoke(\"give one word for love\")"
   ]
  },
  {
   "cell_type": "code",
   "execution_count": 17,
   "id": "44e4b049",
   "metadata": {},
   "outputs": [
    {
     "name": "stdout",
     "output_type": "stream",
     "text": [
      "content='Amor' response_metadata={'prompt_feedback': {'block_reason': 0, 'safety_ratings': []}, 'finish_reason': 'STOP', 'safety_ratings': []} id='run-813aff0a-ef79-4df3-8a55-d6dbb13507ba-0' usage_metadata={'input_tokens': 6, 'output_tokens': 2, 'total_tokens': 1327}\n"
     ]
    }
   ],
   "source": [
    "print(response)"
   ]
  },
  {
   "cell_type": "markdown",
   "id": "daa3f991",
   "metadata": {},
   "source": [
    "### How to create "
   ]
  }
 ],
 "metadata": {
  "kernelspec": {
   "display_name": "venv",
   "language": "python",
   "name": "python3"
  },
  "language_info": {
   "codemirror_mode": {
    "name": "ipython",
    "version": 3
   },
   "file_extension": ".py",
   "mimetype": "text/x-python",
   "name": "python",
   "nbconvert_exporter": "python",
   "pygments_lexer": "ipython3",
   "version": "3.11.9"
  }
 },
 "nbformat": 4,
 "nbformat_minor": 5
}
