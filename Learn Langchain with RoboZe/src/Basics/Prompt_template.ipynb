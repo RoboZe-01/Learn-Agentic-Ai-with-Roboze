{
 "cells": [
  {
   "cell_type": "markdown",
   "id": "84602748",
   "metadata": {},
   "source": [
    "## Prompt template "
   ]
  },
  {
   "cell_type": "markdown",
   "id": "361939b9",
   "metadata": {},
   "source": []
  },
  {
   "cell_type": "code",
   "execution_count": null,
   "id": "3561608f",
   "metadata": {},
   "outputs": [],
   "source": [
    "# Loading the api and the model \n",
    "\n",
    "import os \n",
    "from dotenv import load_dotenv , find_dotenv\n",
    "_=load_dotenv(find_dotenv())\n",
    "gemini_api_key = os.environ[\"GOOGLE_API_KEY\"]"
   ]
  },
  {
   "cell_type": "code",
   "execution_count": 3,
   "id": "f2683b71",
   "metadata": {},
   "outputs": [],
   "source": [
    "# loading completion model \n",
    "from langchain_google_genai import ChatGoogleGenerativeAI\n",
    "\n",
    "llmModel = ChatGoogleGenerativeAI(model=\"gemini-2.5-pro\",temperature=0.7)"
   ]
  },
  {
   "cell_type": "markdown",
   "id": "884ab2e7",
   "metadata": {},
   "source": [
    "### Prompts and prompt Templates"
   ]
  },
  {
   "cell_type": "code",
   "execution_count": 5,
   "id": "f89a8dc1",
   "metadata": {},
   "outputs": [
    {
     "name": "stdout",
     "output_type": "stream",
     "text": [
      "This framework links language models to custom data, creating powerful AI agents that can reason, remember, and act.\n"
     ]
    }
   ],
   "source": [
    "## This is for completion model \n",
    "from langchain_core.prompts import PromptTemplate\n",
    "\n",
    "# Create a template\n",
    "prompt_template  = PromptTemplate.from_template(\n",
    "    \"Tell me a {adjective} story on {topic} in 20 words\"\n",
    ")\n",
    "\n",
    "llmModelPrompt = prompt_template.format(\n",
    "    adjective = \"Informative\",\n",
    "    topic=\"langchain\"\n",
    ")\n",
    "\n",
    "result = llmModel.invoke(llmModelPrompt)\n",
    "print(result.content)"
   ]
  }
 ],
 "metadata": {
  "kernelspec": {
   "display_name": "venv",
   "language": "python",
   "name": "python3"
  },
  "language_info": {
   "codemirror_mode": {
    "name": "ipython",
    "version": 3
   },
   "file_extension": ".py",
   "mimetype": "text/x-python",
   "name": "python",
   "nbconvert_exporter": "python",
   "pygments_lexer": "ipython3",
   "version": "3.11.9"
  }
 },
 "nbformat": 4,
 "nbformat_minor": 5
}
