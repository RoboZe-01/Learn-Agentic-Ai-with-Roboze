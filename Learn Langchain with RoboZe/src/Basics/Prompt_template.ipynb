{
 "cells": [
  {
   "cell_type": "markdown",
   "id": "84602748",
   "metadata": {},
   "source": [
    "## Prompt template "
   ]
  },
  {
   "cell_type": "markdown",
   "id": "361939b9",
   "metadata": {},
   "source": []
  }
 ],
 "metadata": {
  "language_info": {
   "name": "python"
  }
 },
 "nbformat": 4,
 "nbformat_minor": 5
}
